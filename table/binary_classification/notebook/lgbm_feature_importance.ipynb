{
 "cells": [
  {
   "cell_type": "markdown",
   "metadata": {},
   "source": [
    "# ライブラリ"
   ]
  },
  {
   "cell_type": "code",
   "execution_count": 1,
   "metadata": {},
   "outputs": [
    {
     "name": "stderr",
     "output_type": "stream",
     "text": [
      "/var/folders/0v/ww1kbtnn51s3wxx7f3p9wm2m0000gn/T/ipykernel_75276/3677581681.py:9: DeprecationWarning: \n",
      "Pyarrow will become a required dependency of pandas in the next major release of pandas (pandas 3.0),\n",
      "(to allow more performant data types, such as the Arrow string type, and better interoperability with other libraries)\n",
      "but was not found to be installed on your system.\n",
      "If this would cause problems for you,\n",
      "please provide us feedback at https://github.com/pandas-dev/pandas/issues/54466\n",
      "        \n",
      "  import pandas as pd\n"
     ]
    }
   ],
   "source": [
    "import os\n",
    "import random\n",
    "import sys\n",
    "\n",
    "sys.path.append(\n",
    "    \"/Users/koroku/program/competition/signate/202402_samples/table/binary_classification\"\n",
    ")\n",
    "\n",
    "import pandas as pd\n",
    "import numpy as np\n",
    "import matplotlib.pyplot as plt\n",
    "import seaborn as sns\n",
    "\n",
    "from src.preprocessing.tools import convert_column_type\n",
    "from src.preprocessing.encoder import ordinal_encoder\n",
    "from src.preprocessing.missing_value import default_mv_processor\n",
    "from src.training.lgbm_training import trainer\n",
    "\n",
    "RAW_DATA_DIR = \"../data/raw\"\n",
    "\n",
    "OBJECT_VARIABLE = \"Survived\"\n",
    "\n",
    "CONVERSION_DICT = {\"Pclass\": str, \"SibSp\": str, \"Parch\": str}"
   ]
  },
  {
   "cell_type": "markdown",
   "metadata": {},
   "source": [
    "# データの読み込み"
   ]
  },
  {
   "cell_type": "code",
   "execution_count": 2,
   "metadata": {},
   "outputs": [],
   "source": [
    "df_train = pd.read_csv(\n",
    "    os.path.join(RAW_DATA_DIR, \"train.csv\"), index_col=0\n",
    ")\n",
    "df_test = pd.read_csv(os.path.join(RAW_DATA_DIR, \"test.csv\"), index_col=0)\n",
    "df_submit = pd.read_csv(\n",
    "    os.path.join(RAW_DATA_DIR, \"sample_submission.csv\"),\n",
    "    index_col=0,\n",
    "    header=None,\n",
    ")"
   ]
  },
  {
   "cell_type": "markdown",
   "metadata": {},
   "source": [
    "# モデルの学習・予測"
   ]
  },
  {
   "cell_type": "markdown",
   "metadata": {},
   "source": [
    "## データの準備"
   ]
  },
  {
   "cell_type": "code",
   "execution_count": 3,
   "metadata": {},
   "outputs": [],
   "source": [
    "# データの型を変換する\n",
    "df_train = convert_column_type(df_train, CONVERSION_DICT)\n",
    "df_test = convert_column_type(df_test, CONVERSION_DICT)\n",
    "\n",
    "# 欠損値処理\n",
    "missing_cols_train = df_train.columns[df_train.isnull().any()].tolist()\n",
    "missing_cols_test = df_test.columns[df_test.isnull().any()].tolist()\n",
    "df_train = default_mv_processor(df_train, missing_cols_train)\n",
    "df_test = default_mv_processor(df_test, missing_cols_test)\n",
    "\n",
    "# 特徴量と正解ラベルに分割\n",
    "y_train = df_train[OBJECT_VARIABLE]\n",
    "X_train = df_train.drop([OBJECT_VARIABLE], axis=1)\n",
    "X_test = df_test\n",
    "\n",
    "# エンコーディング\n",
    "cols = X_test.select_dtypes(include=\"object\").columns.tolist()\n",
    "X_train, X_test = ordinal_encoder(X_train, X_test, cols)"
   ]
  },
  {
   "cell_type": "markdown",
   "metadata": {},
   "source": [
    "## 学習"
   ]
  },
  {
   "cell_type": "code",
   "execution_count": 4,
   "metadata": {},
   "outputs": [
    {
     "name": "stdout",
     "output_type": "stream",
     "text": [
      "--------------------------\n",
      "Fold 1\n",
      "--------------------------\n",
      "Training until validation scores don't improve for 50 rounds\n"
     ]
    },
    {
     "name": "stderr",
     "output_type": "stream",
     "text": [
      "/Users/koroku/program/competition/signate/202402_samples/table/binary_classification/.venv/lib/python3.10/site-packages/lightgbm/engine.py:172: UserWarning: Found `num_iterations` in params. Will use it instead of argument\n",
      "  _log_warning(f\"Found `{alias}` in params. Will use it instead of argument\")\n"
     ]
    },
    {
     "name": "stdout",
     "output_type": "stream",
     "text": [
      "Did not meet early stopping. Best iteration is:\n",
      "[996]\tvalid_0's binary_logloss: 0.379029\n",
      "F1 Score (Training): 0.88632  (Validation): 0.74419\n",
      "F1 Score (Training): 0.90302  (Validation): 0.79328\n",
      "Valid Classification Report\n",
      "              precision    recall  f1-score   support\n",
      "\n",
      "           0       0.82      0.89      0.86       110\n",
      "           1       0.80      0.70      0.74        69\n",
      "\n",
      "    accuracy                           0.82       179\n",
      "   macro avg       0.81      0.79      0.80       179\n",
      "weighted avg       0.81      0.82      0.81       179\n",
      "\n",
      "--------------------------\n",
      "Fold 2\n",
      "--------------------------\n",
      "Training until validation scores don't improve for 50 rounds\n"
     ]
    },
    {
     "name": "stderr",
     "output_type": "stream",
     "text": [
      "/Users/koroku/program/competition/signate/202402_samples/table/binary_classification/.venv/lib/python3.10/site-packages/lightgbm/engine.py:172: UserWarning: Found `num_iterations` in params. Will use it instead of argument\n",
      "  _log_warning(f\"Found `{alias}` in params. Will use it instead of argument\")\n"
     ]
    },
    {
     "name": "stdout",
     "output_type": "stream",
     "text": [
      "Early stopping, best iteration is:\n",
      "[752]\tvalid_0's binary_logloss: 0.423726\n",
      "F1 Score (Training): 0.89403  (Validation): 0.75385\n",
      "F1 Score (Training): 0.90855  (Validation): 0.80120\n",
      "Valid Classification Report\n",
      "              precision    recall  f1-score   support\n",
      "\n",
      "           0       0.84      0.88      0.86       110\n",
      "           1       0.79      0.72      0.75        68\n",
      "\n",
      "    accuracy                           0.82       178\n",
      "   macro avg       0.81      0.80      0.81       178\n",
      "weighted avg       0.82      0.82      0.82       178\n",
      "\n",
      "--------------------------\n",
      "Fold 3\n",
      "--------------------------\n",
      "Training until validation scores don't improve for 50 rounds\n"
     ]
    },
    {
     "name": "stderr",
     "output_type": "stream",
     "text": [
      "/Users/koroku/program/competition/signate/202402_samples/table/binary_classification/.venv/lib/python3.10/site-packages/lightgbm/engine.py:172: UserWarning: Found `num_iterations` in params. Will use it instead of argument\n",
      "  _log_warning(f\"Found `{alias}` in params. Will use it instead of argument\")\n"
     ]
    },
    {
     "name": "stdout",
     "output_type": "stream",
     "text": [
      "Early stopping, best iteration is:\n",
      "[582]\tvalid_0's binary_logloss: 0.488412\n",
      "F1 Score (Training): 0.87814  (Validation): 0.67769\n",
      "F1 Score (Training): 0.89601  (Validation): 0.74693\n",
      "Valid Classification Report\n",
      "              precision    recall  f1-score   support\n",
      "\n",
      "           0       0.78      0.89      0.83       110\n",
      "           1       0.77      0.60      0.68        68\n",
      "\n",
      "    accuracy                           0.78       178\n",
      "   macro avg       0.78      0.75      0.76       178\n",
      "weighted avg       0.78      0.78      0.77       178\n",
      "\n",
      "--------------------------\n",
      "Fold 4\n",
      "--------------------------\n",
      "Training until validation scores don't improve for 50 rounds\n"
     ]
    },
    {
     "name": "stderr",
     "output_type": "stream",
     "text": [
      "/Users/koroku/program/competition/signate/202402_samples/table/binary_classification/.venv/lib/python3.10/site-packages/lightgbm/engine.py:172: UserWarning: Found `num_iterations` in params. Will use it instead of argument\n",
      "  _log_warning(f\"Found `{alias}` in params. Will use it instead of argument\")\n"
     ]
    },
    {
     "name": "stdout",
     "output_type": "stream",
     "text": [
      "Early stopping, best iteration is:\n",
      "[674]\tvalid_0's binary_logloss: 0.461995\n",
      "F1 Score (Training): 0.88247  (Validation): 0.76119\n",
      "F1 Score (Training): 0.89966  (Validation): 0.80682\n",
      "Valid Classification Report\n",
      "              precision    recall  f1-score   support\n",
      "\n",
      "           0       0.85      0.86      0.86       110\n",
      "           1       0.77      0.75      0.76        68\n",
      "\n",
      "    accuracy                           0.82       178\n",
      "   macro avg       0.81      0.81      0.81       178\n",
      "weighted avg       0.82      0.82      0.82       178\n",
      "\n",
      "--------------------------\n",
      "Fold 5\n",
      "--------------------------\n",
      "Training until validation scores don't improve for 50 rounds\n"
     ]
    },
    {
     "name": "stderr",
     "output_type": "stream",
     "text": [
      "/Users/koroku/program/competition/signate/202402_samples/table/binary_classification/.venv/lib/python3.10/site-packages/lightgbm/engine.py:172: UserWarning: Found `num_iterations` in params. Will use it instead of argument\n",
      "  _log_warning(f\"Found `{alias}` in params. Will use it instead of argument\")\n"
     ]
    },
    {
     "name": "stdout",
     "output_type": "stream",
     "text": [
      "Early stopping, best iteration is:\n",
      "[875]\tvalid_0's binary_logloss: 0.420876\n",
      "F1 Score (Training): 0.89961  (Validation): 0.76033\n",
      "F1 Score (Training): 0.91310  (Validation): 0.80581\n",
      "Valid Classification Report\n",
      "              precision    recall  f1-score   support\n",
      "\n",
      "           0       0.82      0.94      0.88       109\n",
      "           1       0.88      0.67      0.76        69\n",
      "\n",
      "    accuracy                           0.84       178\n",
      "   macro avg       0.85      0.81      0.82       178\n",
      "weighted avg       0.84      0.84      0.83       178\n",
      "\n",
      "Average F1 Score (Training): 0.8881140270391285  (Validation): 0.7394485518268296\n",
      "Average Balanced Accuracy (Training): 0.9040694709798347  (Validation): 0.7908075108057511\n"
     ]
    }
   ],
   "source": [
    "params = {\n",
    "    \"objective\": \"binary\",\n",
    "    \"metric\": \"binary_logloss\",\n",
    "    \"learning_rate\": 0.01,\n",
    "    \"max_depth\": 6,\n",
    "    \"feature_fraction\": 0.30,\n",
    "    \"num_iterations\": 1000,\n",
    "    \"seed\": 42,\n",
    "    \"num_threads\": 5,\n",
    "    \"verbose\": -1,\n",
    "}\n",
    "models, f1 = trainer(X_train, y_train, params)"
   ]
  },
  {
   "cell_type": "markdown",
   "metadata": {},
   "source": [
    "# 重要度"
   ]
  },
  {
   "cell_type": "code",
   "execution_count": 5,
   "metadata": {},
   "outputs": [],
   "source": [
    "feature_importances = np.array([model.feature_importance(importance_type='gain') for model in models])\n",
    "mean_importances = np.mean(feature_importances, axis=0)\n",
    "feature_names = models[0].feature_name()"
   ]
  },
  {
   "cell_type": "code",
   "execution_count": 6,
   "metadata": {},
   "outputs": [
    {
     "data": {
      "text/plain": [
       "[('Sex', 8631.664451956749),\n",
       " ('Fare', 4012.575377363656),\n",
       " ('Age', 3190.729362743751),\n",
       " ('Ticket', 3059.285456160006),\n",
       " ('Name', 2650.3511521250684),\n",
       " ('Pclass', 2519.9786407534825),\n",
       " ('Cabin', 1681.2888722147604),\n",
       " ('Embarked', 823.8900769542126),\n",
       " ('SibSp', 796.7220601566494),\n",
       " ('Parch', 570.4582252789985)]"
      ]
     },
     "execution_count": 6,
     "metadata": {},
     "output_type": "execute_result"
    }
   ],
   "source": [
    "importances = zip(feature_names, mean_importances)\n",
    "sorted_importances = sorted(importances, key=lambda x: x[1], reverse=True)\n",
    "sorted_importances"
   ]
  },
  {
   "cell_type": "code",
   "execution_count": 7,
   "metadata": {},
   "outputs": [],
   "source": [
    "sorted_features = [feature[0] for feature in sorted_importances]\n",
    "sorted_importances = [importance[1] for importance in sorted_importances]"
   ]
  },
  {
   "cell_type": "code",
   "execution_count": 8,
   "metadata": {},
   "outputs": [
    {
     "data": {
      "image/png": "[encoded data removed]",
      "text/plain": [
       "<Figure size 1000x800 with 1 Axes>"
      ]
     },
     "metadata": {},
     "output_type": "display_data"
    }
   ],
   "source": [
    "plt.figure(figsize=(10, 8))\n",
    "sns.barplot(x=sorted_importances, y=sorted_features)\n",
    "plt.title('Feature Importances (Average over models)')\n",
    "plt.xlabel('Average gain of feature')\n",
    "plt.ylabel('Features')\n",
    "plt.show()"
   ]
  },
  {
   "cell_type": "code",
   "execution_count": 9,
   "metadata": {},
   "outputs": [
    {
     "data": {
      "image/png": "[encoded data removed]",
      "text/plain": [
       "<Figure size 1000x800 with 1 Axes>"
      ]
     },
     "metadata": {},
     "output_type": "display_data"
    }
   ],
   "source": [
    "max_importance = max(sorted_importances)\n",
    "importance_ratios = [x / max_importance for x in sorted_importances]\n",
    "plt.figure(figsize=(10, 8))\n",
    "sns.barplot(x=importance_ratios, y=sorted_features)\n",
    "plt.show()"
   ]
  },
  {
   "cell_type": "code",
   "execution_count": 10,
   "metadata": {},
   "outputs": [
    {
     "data": {
      "text/plain": [
       "['Sex', 'Fare', 'Age', 'Ticket', 'Name', 'Pclass', 'Cabin']"
      ]
     },
     "execution_count": 10,
     "metadata": {},
     "output_type": "execute_result"
    }
   ],
   "source": [
    "important_features = [name  for name, ratio in zip(sorted_features, importance_ratios) if ratio>0.1]\n",
    "important_features"
   ]
  },
  {
   "cell_type": "code",
   "execution_count": 11,
   "metadata": {},
   "outputs": [
    {
     "data": {
      "text/plain": [
       "['Sex', 'Fare', 'Age', 'Ticket', 'Name', 'Pclass']"
      ]
     },
     "execution_count": 11,
     "metadata": {},
     "output_type": "execute_result"
    }
   ],
   "source": [
    "important_features = [name  for name, ratio in zip(sorted_features, importance_ratios) if ratio>0.2]\n",
    "important_features"
   ]
  },
  {
   "cell_type": "code",
   "execution_count": null,
   "metadata": {},
   "outputs": [],
   "source": []
  }
 ],
 "metadata": {
  "kernelspec": {
   "display_name": ".venv",
   "language": "python",
   "name": "python3"
  },
  "language_info": {
   "codemirror_mode": {
    "name": "ipython",
    "version": 3
   },
   "file_extension": ".py",
   "mimetype": "text/x-python",
   "name": "python",
   "nbconvert_exporter": "python",
   "pygments_lexer": "ipython3",
   "version": "3.10.10"
  }
 },
 "nbformat": 4,
 "nbformat_minor": 2
}
