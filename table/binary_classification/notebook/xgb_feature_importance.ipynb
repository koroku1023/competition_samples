{
 "cells": [
  {
   "cell_type": "markdown",
   "metadata": {},
   "source": [
    "# ライブラリ"
   ]
  },
  {
   "cell_type": "code",
   "execution_count": 1,
   "metadata": {},
   "outputs": [
    {
     "name": "stderr",
     "output_type": "stream",
     "text": [
      "/var/folders/0v/ww1kbtnn51s3wxx7f3p9wm2m0000gn/T/ipykernel_75317/125256772.py:9: DeprecationWarning: \n",
      "Pyarrow will become a required dependency of pandas in the next major release of pandas (pandas 3.0),\n",
      "(to allow more performant data types, such as the Arrow string type, and better interoperability with other libraries)\n",
      "but was not found to be installed on your system.\n",
      "If this would cause problems for you,\n",
      "please provide us feedback at https://github.com/pandas-dev/pandas/issues/54466\n",
      "        \n",
      "  import pandas as pd\n"
     ]
    }
   ],
   "source": [
    "import os\n",
    "import random\n",
    "import sys\n",
    "\n",
    "sys.path.append(\n",
    "    \"/Users/koroku/program/competition/signate/202402_samples/table/binary_classification\"\n",
    ")\n",
    "\n",
    "import pandas as pd\n",
    "import numpy as np\n",
    "import matplotlib.pyplot as plt\n",
    "import seaborn as sns\n",
    "\n",
    "from src.preprocessing.tools import convert_column_type\n",
    "from src.preprocessing.encoder import ordinal_encoder\n",
    "from src.preprocessing.missing_value import default_mv_processor\n",
    "from src.training.xgb_training import trainer\n",
    "from src.predict.xgb_predict import predictor\n",
    "from src.save.save_model import save_model\n",
    "\n",
    "RAW_DATA_DIR = \"../data/raw\"\n",
    "\n",
    "OBJECT_VARIABLE = \"Survived\"\n",
    "\n",
    "CONVERSION_DICT = {\"Pclass\": str, \"SibSp\": str, \"Parch\": str}"
   ]
  },
  {
   "cell_type": "markdown",
   "metadata": {},
   "source": [
    "# データの読み込み"
   ]
  },
  {
   "cell_type": "code",
   "execution_count": 2,
   "metadata": {},
   "outputs": [],
   "source": [
    "df_train = pd.read_csv(\n",
    "    os.path.join(RAW_DATA_DIR, \"train.csv\"), index_col=0\n",
    ")\n",
    "df_test = pd.read_csv(os.path.join(RAW_DATA_DIR, \"test.csv\"), index_col=0)\n",
    "df_submit = pd.read_csv(\n",
    "    os.path.join(RAW_DATA_DIR, \"sample_submission.csv\"),\n",
    "    index_col=0,\n",
    "    header=None,\n",
    ")"
   ]
  },
  {
   "cell_type": "markdown",
   "metadata": {},
   "source": [
    "# モデルの学習・予測"
   ]
  },
  {
   "cell_type": "markdown",
   "metadata": {},
   "source": [
    "## データの準備"
   ]
  },
  {
   "cell_type": "code",
   "execution_count": 3,
   "metadata": {},
   "outputs": [],
   "source": [
    "# データの型を変換する\n",
    "df_train = convert_column_type(df_train, CONVERSION_DICT)\n",
    "df_test = convert_column_type(df_test, CONVERSION_DICT)\n",
    "\n",
    "# 欠損値処理\n",
    "missing_cols_train = df_train.columns[df_train.isnull().any()].tolist()\n",
    "missing_cols_test = df_test.columns[df_test.isnull().any()].tolist()\n",
    "df_train = default_mv_processor(df_train, missing_cols_train)\n",
    "df_test = default_mv_processor(df_test, missing_cols_test)\n",
    "\n",
    "# 特徴量と正解ラベルに分割\n",
    "y_train = df_train[OBJECT_VARIABLE]\n",
    "X_train = df_train.drop([OBJECT_VARIABLE], axis=1)\n",
    "X_test = df_test\n",
    "\n",
    "# エンコーディング\n",
    "cols = X_test.select_dtypes(include=\"object\").columns.tolist()\n",
    "X_train, X_test = ordinal_encoder(X_train, X_test, cols)"
   ]
  },
  {
   "cell_type": "markdown",
   "metadata": {},
   "source": [
    "## 学習"
   ]
  },
  {
   "cell_type": "code",
   "execution_count": 4,
   "metadata": {},
   "outputs": [
    {
     "name": "stdout",
     "output_type": "stream",
     "text": [
      "--------------------------\n",
      "Fold 1\n",
      "--------------------------\n",
      "F1 Score (Training): 0.73523  (Validation): 0.70690\n",
      "F1 Score (Training): 0.78947  (Validation): 0.76983\n",
      "Valid Classification Report\n",
      "              precision    recall  f1-score   support\n",
      "\n",
      "           0       0.79      0.95      0.86       110\n",
      "           1       0.87      0.59      0.71        69\n",
      "\n",
      "    accuracy                           0.81       179\n",
      "   macro avg       0.83      0.77      0.78       179\n",
      "weighted avg       0.82      0.81      0.80       179\n",
      "\n",
      "--------------------------\n",
      "Fold 2\n",
      "--------------------------\n",
      "F1 Score (Training): 0.75536  (Validation): 0.63636\n",
      "F1 Score (Training): 0.80294  (Validation): 0.72553\n",
      "Valid Classification Report\n",
      "              precision    recall  f1-score   support\n",
      "\n",
      "           0       0.76      0.94      0.84       110\n",
      "           1       0.83      0.51      0.64        68\n",
      "\n",
      "    accuracy                           0.78       178\n",
      "   macro avg       0.80      0.73      0.74       178\n",
      "weighted avg       0.79      0.78      0.76       178\n",
      "\n",
      "--------------------------\n",
      "Fold 3\n",
      "--------------------------\n",
      "F1 Score (Training): 0.77801  (Validation): 0.68421\n",
      "F1 Score (Training): 0.81868  (Validation): 0.75495\n",
      "Valid Classification Report\n",
      "              precision    recall  f1-score   support\n",
      "\n",
      "           0       0.78      0.94      0.85       110\n",
      "           1       0.85      0.57      0.68        68\n",
      "\n",
      "    accuracy                           0.80       178\n",
      "   macro avg       0.81      0.75      0.77       178\n",
      "weighted avg       0.81      0.80      0.79       178\n",
      "\n",
      "--------------------------\n",
      "Fold 4\n",
      "--------------------------\n",
      "F1 Score (Training): 0.77755  (Validation): 0.71545\n",
      "F1 Score (Training): 0.81846  (Validation): 0.77353\n",
      "Valid Classification Report\n",
      "              precision    recall  f1-score   support\n",
      "\n",
      "           0       0.80      0.90      0.85       110\n",
      "           1       0.80      0.65      0.72        68\n",
      "\n",
      "    accuracy                           0.80       178\n",
      "   macro avg       0.80      0.77      0.78       178\n",
      "weighted avg       0.80      0.80      0.80       178\n",
      "\n",
      "--------------------------\n",
      "Fold 5\n",
      "--------------------------\n",
      "F1 Score (Training): 0.74672  (Validation): 0.65455\n",
      "F1 Score (Training): 0.79728  (Validation): 0.73793\n",
      "Valid Classification Report\n",
      "              precision    recall  f1-score   support\n",
      "\n",
      "           0       0.76      0.95      0.85       109\n",
      "           1       0.88      0.52      0.65        69\n",
      "\n",
      "    accuracy                           0.79       178\n",
      "   macro avg       0.82      0.74      0.75       178\n",
      "weighted avg       0.81      0.79      0.77       178\n",
      "\n",
      "Average F1 Score (Training): 0.758575783906527  (Validation): 0.6794926646841125\n",
      "Average Balanced Accuracy (Training): 0.8053670834926343  (Validation): 0.7523546405181356\n"
     ]
    }
   ],
   "source": [
    "params = {\n",
    "    \"objective\": \"binary:logistic\",\n",
    "    \"eval_metric\": \"logloss\",\n",
    "    \"eta\": 0.1,\n",
    "    \"max_depth\": 6,\n",
    "    \"min_child_weight\": 5,\n",
    "    \"colsample_bytree\": 0.50,\n",
    "    \"num_round\": 1000,\n",
    "    \"seed\": 42,\n",
    "    \"nthread\": -1,\n",
    "    \"verbosity\": 0,\n",
    "}\n",
    "models, f1 = trainer(X_train, y_train, params)"
   ]
  },
  {
   "cell_type": "markdown",
   "metadata": {},
   "source": [
    "# 重要度"
   ]
  },
  {
   "cell_type": "code",
   "execution_count": 5,
   "metadata": {},
   "outputs": [
    {
     "name": "stdout",
     "output_type": "stream",
     "text": [
      "Sex: 121.43515472412109\n",
      "Pclass: 17.061454391479494\n",
      "Cabin: 7.795292663574219\n",
      "Age: 7.443636131286621\n",
      "Fare: 5.644822502136231\n",
      "Parch: 3.5493953704833983\n",
      "SibSp: 3.506972599029541\n",
      "Embarked: 3.2107289314270018\n",
      "Ticket: 2.078575849533081\n",
      "Name: 1.7976479053497314\n"
     ]
    }
   ],
   "source": [
    "feature_importances_dicts = [model.get_score(importance_type='gain') for model in models]\n",
    "all_features = sorted(set().union(*(d.keys() for d in feature_importances_dicts)))\n",
    "filled_importances = np.array([[d.get(feature, 0) for feature in all_features] for d in feature_importances_dicts])\n",
    "mean_importances = np.mean(filled_importances, axis=0)\n",
    "mean_importances_dict = dict(zip(all_features, mean_importances))\n",
    "sorted_importances = sorted(mean_importances_dict.items(), key=lambda x: x[1], reverse=True)\n",
    "for feature, importance in sorted_importances:\n",
    "    print(f\"{feature}: {importance}\")"
   ]
  },
  {
   "cell_type": "code",
   "execution_count": 6,
   "metadata": {},
   "outputs": [],
   "source": [
    "sorted_features = [feature[0] for feature in sorted_importances]\n",
    "sorted_importances = [importance[1] for importance in sorted_importances]"
   ]
  },
  {
   "cell_type": "code",
   "execution_count": 7,
   "metadata": {},
   "outputs": [
    {
     "data": {
      "image/png": "[encoded data removed]",
      "text/plain": [
       "<Figure size 1000x800 with 1 Axes>"
      ]
     },
     "metadata": {},
     "output_type": "display_data"
    }
   ],
   "source": [
    "plt.figure(figsize=(10, 8))\n",
    "sns.barplot(x=sorted_importances, y=sorted_features)\n",
    "plt.title('Feature Importances (Average over models)')\n",
    "plt.xlabel('Average gain of feature')\n",
    "plt.ylabel('Features')\n",
    "plt.show()"
   ]
  },
  {
   "cell_type": "code",
   "execution_count": 8,
   "metadata": {},
   "outputs": [
    {
     "data": {
      "image/png": "[encoded data removed]",
      "text/plain": [
       "<Figure size 1000x800 with 1 Axes>"
      ]
     },
     "metadata": {},
     "output_type": "display_data"
    }
   ],
   "source": [
    "max_importance = max(sorted_importances)\n",
    "importance_ratios = [x / max_importance for x in sorted_importances]\n",
    "plt.figure(figsize=(10, 8))\n",
    "sns.barplot(x=importance_ratios, y=sorted_features)\n",
    "plt.show()"
   ]
  },
  {
   "cell_type": "code",
   "execution_count": 9,
   "metadata": {},
   "outputs": [
    {
     "data": {
      "text/plain": [
       "['Sex', 'Pclass']"
      ]
     },
     "execution_count": 9,
     "metadata": {},
     "output_type": "execute_result"
    }
   ],
   "source": [
    "important_features = [name  for name, ratio in zip(sorted_features, importance_ratios) if ratio>0.1]\n",
    "important_features"
   ]
  },
  {
   "cell_type": "code",
   "execution_count": 10,
   "metadata": {},
   "outputs": [
    {
     "data": {
      "text/plain": [
       "['Sex']"
      ]
     },
     "execution_count": 10,
     "metadata": {},
     "output_type": "execute_result"
    }
   ],
   "source": [
    "important_features = [name  for name, ratio in zip(sorted_features, importance_ratios) if ratio>0.2]\n",
    "important_features"
   ]
  },
  {
   "cell_type": "code",
   "execution_count": null,
   "metadata": {},
   "outputs": [],
   "source": []
  }
 ],
 "metadata": {
  "kernelspec": {
   "display_name": ".venv",
   "language": "python",
   "name": "python3"
  },
  "language_info": {
   "codemirror_mode": {
    "name": "ipython",
    "version": 3
   },
   "file_extension": ".py",
   "mimetype": "text/x-python",
   "name": "python",
   "nbconvert_exporter": "python",
   "pygments_lexer": "ipython3",
   "version": "3.10.10"
  }
 },
 "nbformat": 4,
 "nbformat_minor": 2
}
