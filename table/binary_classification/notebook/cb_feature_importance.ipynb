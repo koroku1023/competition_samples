{
 "cells": [
  {
   "cell_type": "markdown",
   "metadata": {},
   "source": [
    "# ライブラリ"
   ]
  },
  {
   "cell_type": "code",
   "execution_count": 1,
   "metadata": {},
   "outputs": [
    {
     "name": "stderr",
     "output_type": "stream",
     "text": [
      "/var/folders/0v/ww1kbtnn51s3wxx7f3p9wm2m0000gn/T/ipykernel_75232/789979418.py:9: DeprecationWarning: \n",
      "Pyarrow will become a required dependency of pandas in the next major release of pandas (pandas 3.0),\n",
      "(to allow more performant data types, such as the Arrow string type, and better interoperability with other libraries)\n",
      "but was not found to be installed on your system.\n",
      "If this would cause problems for you,\n",
      "please provide us feedback at https://github.com/pandas-dev/pandas/issues/54466\n",
      "        \n",
      "  import pandas as pd\n"
     ]
    }
   ],
   "source": [
    "import os\n",
    "import random\n",
    "import sys\n",
    "\n",
    "sys.path.append(\n",
    "    \"/Users/koroku/program/competition/signate/202402_samples/table/binary_classification\"\n",
    ")\n",
    "\n",
    "import pandas as pd\n",
    "import numpy as np\n",
    "import matplotlib.pyplot as plt\n",
    "import seaborn as sns\n",
    "\n",
    "from src.preprocessing.tools import convert_column_type\n",
    "from src.preprocessing.encoder import ordinal_encoder\n",
    "from src.preprocessing.missing_value import default_mv_processor\n",
    "from src.training.cb_training import trainer\n",
    "\n",
    "RAW_DATA_DIR = \"../data/raw\"\n",
    "\n",
    "OBJECT_VARIABLE = \"Survived\"\n",
    "\n",
    "CONVERSION_DICT = {\"Pclass\": str, \"SibSp\": str, \"Parch\": str}"
   ]
  },
  {
   "cell_type": "markdown",
   "metadata": {},
   "source": [
    "# データの読み込み"
   ]
  },
  {
   "cell_type": "code",
   "execution_count": 2,
   "metadata": {},
   "outputs": [],
   "source": [
    "df_train = pd.read_csv(\n",
    "    os.path.join(RAW_DATA_DIR, \"train.csv\"), index_col=0\n",
    ")\n",
    "df_test = pd.read_csv(os.path.join(RAW_DATA_DIR, \"test.csv\"), index_col=0)\n",
    "df_submit = pd.read_csv(\n",
    "    os.path.join(RAW_DATA_DIR, \"sample_submission.csv\"),\n",
    "    index_col=0,\n",
    "    header=None,\n",
    ")"
   ]
  },
  {
   "cell_type": "markdown",
   "metadata": {},
   "source": [
    "# モデルの学習・予測"
   ]
  },
  {
   "cell_type": "markdown",
   "metadata": {},
   "source": [
    "## データの準備"
   ]
  },
  {
   "cell_type": "code",
   "execution_count": 3,
   "metadata": {},
   "outputs": [],
   "source": [
    "# データの型を変換する\n",
    "df_train = convert_column_type(df_train, CONVERSION_DICT)\n",
    "df_test = convert_column_type(df_test, CONVERSION_DICT)\n",
    "\n",
    "# 欠損値処理\n",
    "missing_cols_train = df_train.columns[df_train.isnull().any()].tolist()\n",
    "missing_cols_test = df_test.columns[df_test.isnull().any()].tolist()\n",
    "df_train = default_mv_processor(df_train, missing_cols_train)\n",
    "df_test = default_mv_processor(df_test, missing_cols_test)\n",
    "\n",
    "# 特徴量と正解ラベルに分割\n",
    "y_train = df_train[OBJECT_VARIABLE]\n",
    "X_train = df_train.drop([OBJECT_VARIABLE], axis=1)\n",
    "X_test = df_test"
   ]
  },
  {
   "cell_type": "markdown",
   "metadata": {},
   "source": [
    "## 学習"
   ]
  },
  {
   "cell_type": "code",
   "execution_count": 4,
   "metadata": {},
   "outputs": [
    {
     "name": "stdout",
     "output_type": "stream",
     "text": [
      "--------------------------\n",
      "Fold 1\n",
      "--------------------------\n",
      "F1 Score (Training): 0.90494  (Validation): 0.77778\n",
      "F1 Score (Training): 0.91881  (Validation): 0.81871\n",
      "Valid Classification Report\n",
      "              precision    recall  f1-score   support\n",
      "\n",
      "           0       0.84      0.93      0.88       110\n",
      "           1       0.86      0.71      0.78        69\n",
      "\n",
      "    accuracy                           0.84       179\n",
      "   macro avg       0.85      0.82      0.83       179\n",
      "weighted avg       0.85      0.84      0.84       179\n",
      "\n",
      "--------------------------\n",
      "Fold 2\n",
      "--------------------------\n",
      "F1 Score (Training): 0.86290  (Validation): 0.77519\n",
      "F1 Score (Training): 0.88140  (Validation): 0.81765\n",
      "Valid Classification Report\n",
      "              precision    recall  f1-score   support\n",
      "\n",
      "           0       0.85      0.90      0.87       110\n",
      "           1       0.82      0.74      0.78        68\n",
      "\n",
      "    accuracy                           0.84       178\n",
      "   macro avg       0.83      0.82      0.82       178\n",
      "weighted avg       0.84      0.84      0.84       178\n",
      "\n",
      "--------------------------\n",
      "Fold 3\n",
      "--------------------------\n",
      "F1 Score (Training): 0.89575  (Validation): 0.73333\n",
      "F1 Score (Training): 0.90969  (Validation): 0.78717\n",
      "Valid Classification Report\n",
      "              precision    recall  f1-score   support\n",
      "\n",
      "           0       0.81      0.93      0.86       110\n",
      "           1       0.85      0.65      0.73        68\n",
      "\n",
      "    accuracy                           0.82       178\n",
      "   macro avg       0.83      0.79      0.80       178\n",
      "weighted avg       0.82      0.82      0.81       178\n",
      "\n",
      "--------------------------\n",
      "Fold 4\n",
      "--------------------------\n",
      "F1 Score (Training): 0.88327  (Validation): 0.77863\n",
      "F1 Score (Training): 0.89943  (Validation): 0.82045\n",
      "Valid Classification Report\n",
      "              precision    recall  f1-score   support\n",
      "\n",
      "           0       0.85      0.89      0.87       110\n",
      "           1       0.81      0.75      0.78        68\n",
      "\n",
      "    accuracy                           0.84       178\n",
      "   macro avg       0.83      0.82      0.82       178\n",
      "weighted avg       0.84      0.84      0.84       178\n",
      "\n",
      "--------------------------\n",
      "Fold 5\n",
      "--------------------------\n",
      "F1 Score (Training): 0.91329  (Validation): 0.77686\n",
      "F1 Score (Training): 0.92384  (Validation): 0.81764\n",
      "Valid Classification Report\n",
      "              precision    recall  f1-score   support\n",
      "\n",
      "           0       0.83      0.95      0.89       109\n",
      "           1       0.90      0.68      0.78        69\n",
      "\n",
      "    accuracy                           0.85       178\n",
      "   macro avg       0.86      0.82      0.83       178\n",
      "weighted avg       0.86      0.85      0.84       178\n",
      "\n",
      "Average F1 Score (Training): 0.8920324735033898  (Validation): 0.7683580735782857\n",
      "Average Balanced Accuracy (Training): 0.9066337166289363  (Validation): 0.8123240274824075\n"
     ]
    }
   ],
   "source": [
    "params = {\n",
    "    \"loss_function\": \"Logloss\",\n",
    "    \"custom_metric\": \"TotalF1\",\n",
    "    \"learning_rate\": 0.01,\n",
    "    \"rsm\": 0.3,\n",
    "    \"depth\": 6,\n",
    "    \"min_data_in_leaf\": 5,\n",
    "    \"iterations\": 1000,\n",
    "    \"random_seed\": 42,\n",
    "}\n",
    "models, f1 = trainer(X_train, y_train, params)"
   ]
  },
  {
   "cell_type": "markdown",
   "metadata": {},
   "source": [
    "# 重要度"
   ]
  },
  {
   "cell_type": "code",
   "execution_count": 5,
   "metadata": {},
   "outputs": [
    {
     "data": {
      "text/plain": [
       "[('Sex', 33.89714269051083),\n",
       " ('Pclass', 13.978520781581768),\n",
       " ('Age', 9.219485654615362),\n",
       " ('Ticket', 8.437023364835643),\n",
       " ('Cabin', 7.563115466994681),\n",
       " ('Embarked', 7.246673307877647),\n",
       " ('Parch', 7.192520916180198),\n",
       " ('SibSp', 6.920169712047361),\n",
       " ('Fare', 5.545348105356479),\n",
       " ('Name', 0.0)]"
      ]
     },
     "execution_count": 5,
     "metadata": {},
     "output_type": "execute_result"
    }
   ],
   "source": [
    "feature_importances = np.array([model.get_feature_importance()  for model in models])\n",
    "mean_importances = np.mean(feature_importances, axis=0)\n",
    "feature_names = models[0].feature_names_\n",
    "importances = zip(feature_names, mean_importances)\n",
    "sorted_importances = sorted(importances, key=lambda x: x[1], reverse=True)\n",
    "sorted_importances"
   ]
  },
  {
   "cell_type": "code",
   "execution_count": 6,
   "metadata": {},
   "outputs": [],
   "source": [
    "sorted_features = [feature[0] for feature in sorted_importances]\n",
    "sorted_importances = [importance[1] for importance in sorted_importances]"
   ]
  },
  {
   "cell_type": "code",
   "execution_count": 7,
   "metadata": {},
   "outputs": [
    {
     "data": {
      "image/png": "[encoded data removed]",
      "text/plain": [
       "<Figure size 1000x800 with 1 Axes>"
      ]
     },
     "metadata": {},
     "output_type": "display_data"
    }
   ],
   "source": [
    "plt.figure(figsize=(10, 8))\n",
    "sns.barplot(x=sorted_importances, y=sorted_features)\n",
    "plt.title('Feature Importances (Average over models)')\n",
    "plt.xlabel('Average gain of feature')\n",
    "plt.ylabel('Features')\n",
    "plt.show()"
   ]
  },
  {
   "cell_type": "code",
   "execution_count": 8,
   "metadata": {},
   "outputs": [
    {
     "data": {
      "image/png": "[encoded data removed]",
      "text/plain": [
       "<Figure size 1000x800 with 1 Axes>"
      ]
     },
     "metadata": {},
     "output_type": "display_data"
    }
   ],
   "source": [
    "max_importance = max(sorted_importances)\n",
    "importance_ratios = [x / max_importance for x in sorted_importances]\n",
    "plt.figure(figsize=(10, 8))\n",
    "sns.barplot(x=importance_ratios, y=sorted_features)\n",
    "plt.show()"
   ]
  },
  {
   "cell_type": "code",
   "execution_count": 9,
   "metadata": {},
   "outputs": [
    {
     "data": {
      "text/plain": [
       "['Sex',\n",
       " 'Pclass',\n",
       " 'Age',\n",
       " 'Ticket',\n",
       " 'Cabin',\n",
       " 'Embarked',\n",
       " 'Parch',\n",
       " 'SibSp',\n",
       " 'Fare']"
      ]
     },
     "execution_count": 9,
     "metadata": {},
     "output_type": "execute_result"
    }
   ],
   "source": [
    "important_features = [name  for name, ratio in zip(sorted_features, importance_ratios) if ratio>0.1]\n",
    "important_features"
   ]
  },
  {
   "cell_type": "code",
   "execution_count": 10,
   "metadata": {},
   "outputs": [
    {
     "data": {
      "text/plain": [
       "['Sex', 'Pclass', 'Age', 'Ticket', 'Cabin', 'Embarked', 'Parch', 'SibSp']"
      ]
     },
     "execution_count": 10,
     "metadata": {},
     "output_type": "execute_result"
    }
   ],
   "source": [
    "important_features = [name  for name, ratio in zip(sorted_features, importance_ratios) if ratio>0.2]\n",
    "important_features"
   ]
  },
  {
   "cell_type": "code",
   "execution_count": null,
   "metadata": {},
   "outputs": [],
   "source": []
  }
 ],
 "metadata": {
  "kernelspec": {
   "display_name": ".venv",
   "language": "python",
   "name": "python3"
  },
  "language_info": {
   "codemirror_mode": {
    "name": "ipython",
    "version": 3
   },
   "file_extension": ".py",
   "mimetype": "text/x-python",
   "name": "python",
   "nbconvert_exporter": "python",
   "pygments_lexer": "ipython3",
   "version": "3.10.10"
  }
 },
 "nbformat": 4,
 "nbformat_minor": 2
}
